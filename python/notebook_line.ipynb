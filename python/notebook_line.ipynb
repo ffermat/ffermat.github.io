{
 "cells": [
  {
   "cell_type": "markdown",
   "execution_count": null,
   "metadata": {},
   "outputs": [],
   "source": [
    "## 几大步骤\n",
    "1, 根据日期选当天的线路  \n",
    "2，选考勤类型  \n",
    "3，根据时间排序后对线路去重，这样我们得到线路总数  \n",
    "4，根据筛选条件筛出【超时线路】数量、【超30min】线路数量"
   ]
  },
  {
   "cell_type": "code",
   "execution_count": 42,
   "metadata": {},
   "outputs": [],
   "source": [
    "import pandas as pd\n",
    "import numpy as ny\n",
    "data=pd.read_excel(r\"D:\\Chrome下载\\dc_excel_zh-CN20191107-093955.xlsx\")"
   ]
  },
  {
   "cell_type": "code",
   "execution_count": 56,
   "metadata": {},
   "outputs": [
    {
     "name": "stdout",
     "output_type": "stream",
     "text": "当日共运行车线1155条。\n1，到始发站晚点车线共107条，占比9.26%，晚点30分钟的线路有61条。\n"
    }
   ],
   "source": [
    "#选取始发到港情况需要的字段\n",
    "data1=data[['线路属性', '线路名称', '所属区域', '发车网点','考勤类型.1','计划到达时间', '实际到达时间', '考勤状态.1','到达超时']]\n",
    "#选定计划到达时间在指定日期（本例中是11月6号）\n",
    "data2=data1[(data1['计划到达时间']>'2019-11-06 00:00:01')&(data1['计划到达时间']<'2019-11-06 23:59:59')]\n",
    "#选定考勤类型是始发到港考勤\n",
    "data2=data2[data2['考勤类型.1']=='始发到港考勤']\n",
    "#按实际到达时间倒序\n",
    "data2.sort_values(by=['实际到达时间'],ascending=[False])\n",
    "#按线路名去重\n",
    "data2=data2.drop_duplicates(subset=['线路名称'])\n",
    "a=len(data2['线路名称'])\n",
    "data3=data2[data2['考勤状态.1']=='晚于计划']\n",
    "b=len(data3['线路名称'])\n",
    "data3.sort_values(by=['到达超时'])\n",
    "data4=data3[data3['到达超时']>'0h30m00s']\n",
    "data4=data4.sort_values(by=['到达超时'],ascending=[False])\n",
    "data4\n",
    "d=len(data4['线路名称'])\n",
    "c=b/a\n",
    "print(\"当日共运行车线\"+str(a)+\"条。\")\n",
    "print(\"1，到始发站晚点车线共\"+str(b)+\"条，占比\"+\"{:.2%}\".format(c)+\"，晚点30分钟的线路有\"+str(d)+\"条。\")\n",
    "data4.to_excel(excel_writer=r\"C:\\Users\\JZG\\Desktop\\始发到港晚30min.xlsx\")"
   ]
  },
  {
   "cell_type": "code",
   "execution_count": 59,
   "metadata": {},
   "outputs": [],
   "source": [
    "dataa1=data[['线路属性', '线路名称', '所属区域','发车网点', '考勤类型', '计划发车时间', '实际发车时间', '考勤状态', '发车超时']]\n",
    "dataa2=dataa1[(dataa1['计划发车时间']>'2019-11-06 00:00:01')&(dataa1['计划发车时间']<'2019-11-06 23:59:59')]\n",
    "dataa3=dataa2[dataa2['考勤类型']=='始发出发考勤']\n",
    "dataa3.to_excel(excel_writer=r\"C:\\Users\\JZG\\Desktop\\始发发车.xlsx\")"
   ]
  },
  {
   "cell_type": "code",
   "execution_count": null,
   "metadata": {},
   "outputs": [],
   "source": [
    "#选取始发到港情况需要的字段\n",
    "data1=data[['线路属性', '线路名称', '所属区域', '发车网点','考勤类型.1','计划到达时间', '实际到达时间', '考勤状态.1','到达超时']]\n",
    "#选定计划到达时间在指定日期（本例中是11月6号）\n",
    "data2=data1[(data1['计划到达时间']>'2019-11-06 00:00:01')&(data1['计划到达时间']<'2019-11-06 23:59:59')]\n",
    "#选定考勤类型是始发到港考勤\n",
    "data2=data2[data2['考勤类型.1']=='始发到港考勤']\n",
    "#按实际到达时间倒序\n",
    "data2.sort_values(by=['实际到达时间'],ascending=[False])\n",
    "#按线路名去重\n",
    "data2=data2.drop_duplicates(subset=['线路名称'])\n",
    "a=len(data2['线路名称'])\n",
    "data3=data2[data2['考勤状态.1']=='晚于计划']\n",
    "b=len(data3['线路名称'])\n",
    "data3.sort_values(by=['到达超时'])\n",
    "data4=data3[data3['到达超时']>'0h30m00s']\n",
    "data4=data4.sort_values(by=['到达超时'],ascending=[False])\n",
    "data4\n",
    "d=len(data4['线路名称'])\n",
    "c=b/a\n",
    "print(\"当日共运行车线\"+str(a)+\"条。\")\n",
    "print(\"1，到始发站晚点车线共\"+str(b)+\"条，占比\"+\"{:.2%}\".format(c)+\"，晚点30分钟的线路有\"+str(d)+\"条。\")"
   ]
  },
  {
   "cell_type": "code",
   "execution_count": 68,
   "metadata": {},
   "outputs": [],
   "source": [
    "#按线路名去重\n",
    "dataa3=dataa3.drop_duplicates(subset=['线路名称'])\n",
    "dataa3"
   ]
  },
  {
   "cell_type": "code",
   "execution_count": 74,
   "metadata": {},
   "outputs": [],
   "source": [
    "dataa3[(dataa3['考勤状态']=='晚于计划')]"
   ]
  },
  {
   "cell_type": "code",
   "execution_count": null,
   "metadata": {},
   "outputs": [],
   "source": []
  }
 ],
 "metadata": {},
 "nbformat": 4,
 "nbformat_minor": 2
}
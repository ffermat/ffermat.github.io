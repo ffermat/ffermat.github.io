{
 "cells": [
  {
   "cell_type": "code",
   "execution_count": 34,
   "metadata": {},
   "outputs": [],
   "source": [
    "import pandas as pd\n",
    "import numpy as ny\n",
    "data=pd.read_excel(r\"D:\\Chrome下载\\dc_excel_zh-CN20191106-093556.xlsx\")"
   ]
  },
  {
   "cell_type": "code",
   "execution_count": 36,
   "metadata": {},
   "outputs": [],
   "source": [
    "#选取始发到港情况需要的字段\n",
    "data1=data[['线路属性', '线路名称', '所属区域', '发车网点','考勤类型.1','计划到达时间', '实际到达时间', '考勤状态.1']]\n",
    "#选定计划到达时间在指定日期（本例中是11月5号）\n",
    "data2=data1[(data1['计划到达时间']>'2019-11-05 00:00:01')&(data1['计划到达时间']<'2019-11-05 23:59:59')]\n",
    "#选定考勤类型是始发到港考勤\n",
    "data2=data2[data2['考勤类型.1']=='始发到港考勤']\n"
   ]
  },
  {
   "cell_type": "code",
   "execution_count": 52,
   "metadata": {},
   "outputs": [],
   "source": [
    "\n",
    "\n",
    "\n",
    "data2=data2.drop_duplicates(subset=['线路名称'])\n",
    "data2"
   ]
  },
  {
   "cell_type": "code",
   "execution_count": 19,
   "metadata": {},
   "outputs": [],
   "source": [
    "data2=data1.drop_duplicates(subset=['线路名称'])\n",
    "data2.head()"
   ]
  }
 ],
 "metadata": {},
 "nbformat": 4,
 "nbformat_minor": 2
}
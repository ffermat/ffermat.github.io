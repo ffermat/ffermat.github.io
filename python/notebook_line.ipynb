{
 "cells": [
  {
   "cell_type": "code",
   "execution_count": 52,
   "metadata": {},
   "outputs": [],
   "source": [
    "import pandas as pd\n",
    "import numpy as ny\n",
    "data=pd.read_excel(r\"D:\\Chrome下载\\dc_excel_zh-CN20191106-093556.xlsx\")"
   ]
  },
  {
   "cell_type": "code",
   "execution_count": 53,
   "metadata": {},
   "outputs": [
    {
     "data": {
      "text/plain": "Index(['打印出车凭证时间', '线路属性', '线路名称', '所属区域', '线路类型', '出车凭证编码', '车牌号', '司机姓名',\n       '发车网点', '考勤类型', '计划发车时间', '实际发车时间', '考勤状态', '发车超时', '下一站', '考勤类型.1',\n       '计划到达时间', '实际到达时间', '考勤状态.1', '到达超时', '计划到达时间.1', 'Unnamed: 21'],\n      dtype='object')"
     },
     "execution_count": 53,
     "metadata": {},
     "output_type": "execute_result"
    }
   ],
   "source": [
    "data.columns"
   ]
  },
  {
   "cell_type": "code",
   "execution_count": 54,
   "metadata": {},
   "outputs": [
    {
     "name": "stdout",
     "output_type": "stream",
     "text": "当日共运行车线1169条\n"
    }
   ],
   "source": [
    "#选取始发到港情况需要的字段\n",
    "data1=data[['线路属性', '线路名称', '所属区域', '发车网点','考勤类型.1','计划到达时间', '实际到达时间', '考勤状态.1']]\n",
    "#选定计划到达时间在指定日期（本例中是11月5号）\n",
    "data2=data1[(data1['计划到达时间']>'2019-11-05 00:00:01')&(data1['计划到达时间']<'2019-11-05 23:59:59')]\n",
    "#选定考勤类型是始发到港考勤\n",
    "data2=data2[data2['考勤类型.1']=='始发到港考勤']\n",
    "#按实际到达时间倒序\n",
    "data2.sort_values(by=['实际到达时间'],ascending=[False])\n",
    "#按线路名去重\n",
    "data2=data2.drop_duplicates(subset=['线路名称'])\n",
    "a=len(data2['线路名称'])\n",
    "print(\"当日共运行车线\"+str(a)+\"条\")"
   ]
  },
  {
   "cell_type": "code",
   "execution_count": 55,
   "metadata": {},
   "outputs": [
    {
     "data": {
      "text/html": "<div>\n<style scoped>\n    .dataframe tbody tr th:only-of-type {\n        vertical-align: middle;\n    }\n\n    .dataframe tbody tr th {\n        vertical-align: top;\n    }\n\n    .dataframe thead th {\n        text-align: right;\n    }\n</style>\n<table border=\"1\" class=\"dataframe\">\n  <thead>\n    <tr style=\"text-align: right;\">\n      <th></th>\n      <th>线路属性</th>\n      <th>线路名称</th>\n      <th>所属区域</th>\n      <th>发车网点</th>\n      <th>考勤类型.1</th>\n      <th>计划到达时间</th>\n      <th>实际到达时间</th>\n      <th>考勤状态.1</th>\n      <th>到达超时</th>\n    </tr>\n  </thead>\n  <tbody>\n    <tr>\n      <th>1769</th>\n      <td>临时</td>\n      <td>DD1-BKA-BKK-20191105 22:00-2</td>\n      <td>B</td>\n      <td>NaN</td>\n      <td>始发到港考勤</td>\n      <td>2019-11-05 21:00:00</td>\n      <td>2019-11-05 22:30:15</td>\n      <td>晚于计划</td>\n      <td>1h30m15s</td>\n    </tr>\n    <tr>\n      <th>1810</th>\n      <td>常规</td>\n      <td>FD-6W-CLD-LAS-20:00-RO</td>\n      <td>B</td>\n      <td>NaN</td>\n      <td>始发到港考勤</td>\n      <td>2019-11-05 18:00:00</td>\n      <td>2019-11-05 21:14:42</td>\n      <td>晚于计划</td>\n      <td>3h14m42s</td>\n    </tr>\n    <tr>\n      <th>1830</th>\n      <td>临时</td>\n      <td>DD1-SBS-LAS-20191105 19:30</td>\n      <td>B</td>\n      <td>NaN</td>\n      <td>始发到港考勤</td>\n      <td>2019-11-05 18:30:00</td>\n      <td>2019-11-05 20:46:38</td>\n      <td>晚于计划</td>\n      <td>2h16m38s</td>\n    </tr>\n    <tr>\n      <th>1838</th>\n      <td>临时</td>\n      <td>DD1-BTG-LAS-20191105 20:00</td>\n      <td>B</td>\n      <td>NaN</td>\n      <td>始发到港考勤</td>\n      <td>2019-11-05 19:00:00</td>\n      <td>2019-11-05 20:30:23</td>\n      <td>晚于计划</td>\n      <td>1h30m23s</td>\n    </tr>\n    <tr>\n      <th>1894</th>\n      <td>临时</td>\n      <td>DD1-KTB-LAS-20191105 20:00-2</td>\n      <td>C</td>\n      <td>NaN</td>\n      <td>始发到港考勤</td>\n      <td>2019-11-05 19:00:00</td>\n      <td>2019-11-05 20:01:40</td>\n      <td>晚于计划</td>\n      <td>1h1m40s</td>\n    </tr>\n  </tbody>\n</table>\n</div>",
      "text/plain": "     线路属性                          线路名称 所属区域 发车网点  考勤类型.1  \\\n1769   临时  DD1-BKA-BKK-20191105 22:00-2    B  NaN  始发到港考勤   \n1810   常规        FD-6W-CLD-LAS-20:00-RO    B  NaN  始发到港考勤   \n1830   临时    DD1-SBS-LAS-20191105 19:30    B  NaN  始发到港考勤   \n1838   临时    DD1-BTG-LAS-20191105 20:00    B  NaN  始发到港考勤   \n1894   临时  DD1-KTB-LAS-20191105 20:00-2    C  NaN  始发到港考勤   \n\n                   计划到达时间               实际到达时间 考勤状态.1      到达超时  \n1769  2019-11-05 21:00:00  2019-11-05 22:30:15   晚于计划  1h30m15s  \n1810  2019-11-05 18:00:00  2019-11-05 21:14:42   晚于计划  3h14m42s  \n1830  2019-11-05 18:30:00  2019-11-05 20:46:38   晚于计划  2h16m38s  \n1838  2019-11-05 19:00:00  2019-11-05 20:30:23   晚于计划  1h30m23s  \n1894  2019-11-05 19:00:00  2019-11-05 20:01:40   晚于计划   1h1m40s  "
     },
     "execution_count": 55,
     "metadata": {},
     "output_type": "execute_result"
    }
   ],
   "source": [
    "data3.head()"
   ]
  },
  {
   "cell_type": "code",
   "execution_count": 56,
   "metadata": {},
   "outputs": [
    {
     "data": {
      "text/html": "<div>\n<style scoped>\n    .dataframe tbody tr th:only-of-type {\n        vertical-align: middle;\n    }\n\n    .dataframe tbody tr th {\n        vertical-align: top;\n    }\n\n    .dataframe thead th {\n        text-align: right;\n    }\n</style>\n<table border=\"1\" class=\"dataframe\">\n  <thead>\n    <tr style=\"text-align: right;\">\n      <th></th>\n      <th>线路属性</th>\n      <th>线路名称</th>\n      <th>所属区域</th>\n      <th>发车网点</th>\n      <th>考勤类型.1</th>\n      <th>计划到达时间</th>\n      <th>实际到达时间</th>\n      <th>考勤状态.1</th>\n      <th>到达超时</th>\n    </tr>\n  </thead>\n  <tbody>\n    <tr>\n      <th>1922</th>\n      <td>常规</td>\n      <td>SHOP-4W-SBS-LAS-19:00-RO</td>\n      <td>B</td>\n      <td>NaN</td>\n      <td>始发到港考勤</td>\n      <td>2019-11-05 18:30:00</td>\n      <td>2019-11-05 19:44:22</td>\n      <td>晚于计划</td>\n      <td>1h14m22s</td>\n    </tr>\n    <tr>\n      <th>2037</th>\n      <td>常规</td>\n      <td>SHOP-4W-SRM-LAS-BKK-18:30-RO</td>\n      <td>B</td>\n      <td>NaN</td>\n      <td>始发到港考勤</td>\n      <td>2019-11-05 17:30:00</td>\n      <td>2019-11-05 18:49:44</td>\n      <td>晚于计划</td>\n      <td>1h19m44s</td>\n    </tr>\n    <tr>\n      <th>3514</th>\n      <td>临时</td>\n      <td>DD1-BKK-LAS-20191105 09:00</td>\n      <td>B</td>\n      <td>NaN</td>\n      <td>始发到港考勤</td>\n      <td>2019-11-05 08:00:00</td>\n      <td>2019-11-05 09:19:45</td>\n      <td>晚于计划</td>\n      <td>1h19m45s</td>\n    </tr>\n    <tr>\n      <th>1894</th>\n      <td>临时</td>\n      <td>DD1-KTB-LAS-20191105 20:00-2</td>\n      <td>C</td>\n      <td>NaN</td>\n      <td>始发到港考勤</td>\n      <td>2019-11-05 19:00:00</td>\n      <td>2019-11-05 20:01:40</td>\n      <td>晚于计划</td>\n      <td>1h1m40s</td>\n    </tr>\n    <tr>\n      <th>2021</th>\n      <td>常规</td>\n      <td>SHOP-4W-SRH-TWN-LAS-18:00-RO</td>\n      <td>B</td>\n      <td>NaN</td>\n      <td>始发到港考勤</td>\n      <td>2019-11-05 17:30:00</td>\n      <td>2019-11-05 18:52:14</td>\n      <td>晚于计划</td>\n      <td>1h22m14s</td>\n    </tr>\n    <tr>\n      <th>2268</th>\n      <td>常规</td>\n      <td>FD-4W-PRA-LAS-BKK-17:30-RS2</td>\n      <td>C</td>\n      <td>NaN</td>\n      <td>始发到港考勤</td>\n      <td>2019-11-05 16:30:00</td>\n      <td>2019-11-05 17:52:03</td>\n      <td>晚于计划</td>\n      <td>1h22m3s</td>\n    </tr>\n    <tr>\n      <th>2166</th>\n      <td>常规</td>\n      <td>FD-4W-JTC-LAS-18:15-RS2</td>\n      <td>B</td>\n      <td>NaN</td>\n      <td>始发到港考勤</td>\n      <td>2019-11-05 17:15:00</td>\n      <td>2019-11-05 18:17:49</td>\n      <td>晚于计划</td>\n      <td>1h2m49s</td>\n    </tr>\n    <tr>\n      <th>1952</th>\n      <td>常规</td>\n      <td>FD-4W-BMG-LAS-19:30-RS2</td>\n      <td>B</td>\n      <td>NaN</td>\n      <td>始发到港考勤</td>\n      <td>2019-11-05 18:30:00</td>\n      <td>2019-11-05 19:32:04</td>\n      <td>晚于计划</td>\n      <td>1h2m4s</td>\n    </tr>\n    <tr>\n      <th>1769</th>\n      <td>临时</td>\n      <td>DD1-BKA-BKK-20191105 22:00-2</td>\n      <td>B</td>\n      <td>NaN</td>\n      <td>始发到港考勤</td>\n      <td>2019-11-05 21:00:00</td>\n      <td>2019-11-05 22:30:15</td>\n      <td>晚于计划</td>\n      <td>1h30m15s</td>\n    </tr>\n    <tr>\n      <th>1838</th>\n      <td>临时</td>\n      <td>DD1-BTG-LAS-20191105 20:00</td>\n      <td>B</td>\n      <td>NaN</td>\n      <td>始发到港考勤</td>\n      <td>2019-11-05 19:00:00</td>\n      <td>2019-11-05 20:30:23</td>\n      <td>晚于计划</td>\n      <td>1h30m23s</td>\n    </tr>\n    <tr>\n      <th>2056</th>\n      <td>常规</td>\n      <td>FD-4W-KLP-LAS-BKK-18:40-RS2</td>\n      <td>B</td>\n      <td>NaN</td>\n      <td>始发到港考勤</td>\n      <td>2019-11-05 17:40:00</td>\n      <td>2019-11-05 18:43:57</td>\n      <td>晚于计划</td>\n      <td>1h3m57s</td>\n    </tr>\n    <tr>\n      <th>2017</th>\n      <td>常规</td>\n      <td>FD-4W-BKA-LAS-18:45-RO</td>\n      <td>B</td>\n      <td>NaN</td>\n      <td>始发到港考勤</td>\n      <td>2019-11-05 17:50:00</td>\n      <td>2019-11-05 18:54:21</td>\n      <td>晚于计划</td>\n      <td>1h4m21s</td>\n    </tr>\n    <tr>\n      <th>3876</th>\n      <td>常规</td>\n      <td>FD-4W-SO2-NRW-05:25-RS1</td>\n      <td>S</td>\n      <td>NaN</td>\n      <td>始发到港考勤</td>\n      <td>2019-11-05 04:25:00</td>\n      <td>2019-11-05 05:29:25</td>\n      <td>晚于计划</td>\n      <td>1h4m25s</td>\n    </tr>\n    <tr>\n      <th>2158</th>\n      <td>常规</td>\n      <td>FD-4W-BON-LAS-17:30-RS2</td>\n      <td>B</td>\n      <td>NaN</td>\n      <td>始发到港考勤</td>\n      <td>2019-11-05 16:30:00</td>\n      <td>2019-11-05 18:20:09</td>\n      <td>晚于计划</td>\n      <td>1h50m9s</td>\n    </tr>\n    <tr>\n      <th>1908</th>\n      <td>常规</td>\n      <td>FD-6W-CLD-BKK-20:00-RO</td>\n      <td>B</td>\n      <td>NaN</td>\n      <td>始发到港考勤</td>\n      <td>2019-11-05 18:00:00</td>\n      <td>2019-11-05 19:53:56</td>\n      <td>晚于计划</td>\n      <td>1h53m56s</td>\n    </tr>\n    <tr>\n      <th>2480</th>\n      <td>常规</td>\n      <td>FD-4W-KPU-TLG-17:00-RS2</td>\n      <td>S</td>\n      <td>NaN</td>\n      <td>始发到港考勤</td>\n      <td>2019-11-05 16:00:00</td>\n      <td>2019-11-05 17:07:54</td>\n      <td>晚于计划</td>\n      <td>1h7m54s</td>\n    </tr>\n    <tr>\n      <th>1988</th>\n      <td>常规</td>\n      <td>FD-4W-PTW-LAS-BKK-19:00-RS2</td>\n      <td>B</td>\n      <td>NaN</td>\n      <td>始发到港考勤</td>\n      <td>2019-11-05 18:00:00</td>\n      <td>2019-11-05 19:09:59</td>\n      <td>晚于计划</td>\n      <td>1h9m59s</td>\n    </tr>\n    <tr>\n      <th>1830</th>\n      <td>临时</td>\n      <td>DD1-SBS-LAS-20191105 19:30</td>\n      <td>B</td>\n      <td>NaN</td>\n      <td>始发到港考勤</td>\n      <td>2019-11-05 18:30:00</td>\n      <td>2019-11-05 20:46:38</td>\n      <td>晚于计划</td>\n      <td>2h16m38s</td>\n    </tr>\n    <tr>\n      <th>3753</th>\n      <td>常规</td>\n      <td>FD-4W-BKK-LLK-05:00-RS1</td>\n      <td>B</td>\n      <td>NaN</td>\n      <td>始发到港考勤</td>\n      <td>2019-11-05 04:00:00</td>\n      <td>2019-11-05 06:49:52</td>\n      <td>晚于计划</td>\n      <td>2h49m52s</td>\n    </tr>\n    <tr>\n      <th>1810</th>\n      <td>常规</td>\n      <td>FD-6W-CLD-LAS-20:00-RO</td>\n      <td>B</td>\n      <td>NaN</td>\n      <td>始发到港考勤</td>\n      <td>2019-11-05 18:00:00</td>\n      <td>2019-11-05 21:14:42</td>\n      <td>晚于计划</td>\n      <td>3h14m42s</td>\n    </tr>\n    <tr>\n      <th>3179</th>\n      <td>临时</td>\n      <td>DD1-FW001-LAS-20191105 13:00</td>\n      <td>B</td>\n      <td>NaN</td>\n      <td>始发到港考勤</td>\n      <td>2019-11-05 12:00:00</td>\n      <td>2019-11-05 15:17:13</td>\n      <td>晚于计划</td>\n      <td>3h17m13s</td>\n    </tr>\n    <tr>\n      <th>3649</th>\n      <td>常规</td>\n      <td>FD-4W-BKK-TYR-02:00-RO</td>\n      <td>B</td>\n      <td>NaN</td>\n      <td>始发到港考勤</td>\n      <td>2019-11-05 01:00:00</td>\n      <td>2019-11-05 08:14:24</td>\n      <td>晚于计划</td>\n      <td>7h14m24s</td>\n    </tr>\n    <tr>\n      <th>3146</th>\n      <td>常规</td>\n      <td>FD-6W-CLD-NO1-10:00-RO</td>\n      <td>B</td>\n      <td>NaN</td>\n      <td>始发到港考勤</td>\n      <td>2019-11-05 08:00:00</td>\n      <td>2019-11-05 15:27:14</td>\n      <td>晚于计划</td>\n      <td>7h27m14s</td>\n    </tr>\n  </tbody>\n</table>\n</div>",
      "text/plain": "     线路属性                          线路名称 所属区域 发车网点  考勤类型.1  \\\n1922   常规      SHOP-4W-SBS-LAS-19:00-RO    B  NaN  始发到港考勤   \n2037   常规  SHOP-4W-SRM-LAS-BKK-18:30-RO    B  NaN  始发到港考勤   \n3514   临时    DD1-BKK-LAS-20191105 09:00    B  NaN  始发到港考勤   \n1894   临时  DD1-KTB-LAS-20191105 20:00-2    C  NaN  始发到港考勤   \n2021   常规  SHOP-4W-SRH-TWN-LAS-18:00-RO    B  NaN  始发到港考勤   \n2268   常规   FD-4W-PRA-LAS-BKK-17:30-RS2    C  NaN  始发到港考勤   \n2166   常规       FD-4W-JTC-LAS-18:15-RS2    B  NaN  始发到港考勤   \n1952   常规       FD-4W-BMG-LAS-19:30-RS2    B  NaN  始发到港考勤   \n1769   临时  DD1-BKA-BKK-20191105 22:00-2    B  NaN  始发到港考勤   \n1838   临时    DD1-BTG-LAS-20191105 20:00    B  NaN  始发到港考勤   \n2056   常规   FD-4W-KLP-LAS-BKK-18:40-RS2    B  NaN  始发到港考勤   \n2017   常规        FD-4W-BKA-LAS-18:45-RO    B  NaN  始发到港考勤   \n3876   常规       FD-4W-SO2-NRW-05:25-RS1    S  NaN  始发到港考勤   \n2158   常规       FD-4W-BON-LAS-17:30-RS2    B  NaN  始发到港考勤   \n1908   常规        FD-6W-CLD-BKK-20:00-RO    B  NaN  始发到港考勤   \n2480   常规       FD-4W-KPU-TLG-17:00-RS2    S  NaN  始发到港考勤   \n1988   常规   FD-4W-PTW-LAS-BKK-19:00-RS2    B  NaN  始发到港考勤   \n1830   临时    DD1-SBS-LAS-20191105 19:30    B  NaN  始发到港考勤   \n3753   常规       FD-4W-BKK-LLK-05:00-RS1    B  NaN  始发到港考勤   \n1810   常规        FD-6W-CLD-LAS-20:00-RO    B  NaN  始发到港考勤   \n3179   临时  DD1-FW001-LAS-20191105 13:00    B  NaN  始发到港考勤   \n3649   常规        FD-4W-BKK-TYR-02:00-RO    B  NaN  始发到港考勤   \n3146   常规        FD-6W-CLD-NO1-10:00-RO    B  NaN  始发到港考勤   \n\n                   计划到达时间               实际到达时间 考勤状态.1      到达超时  \n1922  2019-11-05 18:30:00  2019-11-05 19:44:22   晚于计划  1h14m22s  \n2037  2019-11-05 17:30:00  2019-11-05 18:49:44   晚于计划  1h19m44s  \n3514  2019-11-05 08:00:00  2019-11-05 09:19:45   晚于计划  1h19m45s  \n1894  2019-11-05 19:00:00  2019-11-05 20:01:40   晚于计划   1h1m40s  \n2021  2019-11-05 17:30:00  2019-11-05 18:52:14   晚于计划  1h22m14s  \n2268  2019-11-05 16:30:00  2019-11-05 17:52:03   晚于计划   1h22m3s  \n2166  2019-11-05 17:15:00  2019-11-05 18:17:49   晚于计划   1h2m49s  \n1952  2019-11-05 18:30:00  2019-11-05 19:32:04   晚于计划    1h2m4s  \n1769  2019-11-05 21:00:00  2019-11-05 22:30:15   晚于计划  1h30m15s  \n1838  2019-11-05 19:00:00  2019-11-05 20:30:23   晚于计划  1h30m23s  \n2056  2019-11-05 17:40:00  2019-11-05 18:43:57   晚于计划   1h3m57s  \n2017  2019-11-05 17:50:00  2019-11-05 18:54:21   晚于计划   1h4m21s  \n3876  2019-11-05 04:25:00  2019-11-05 05:29:25   晚于计划   1h4m25s  \n2158  2019-11-05 16:30:00  2019-11-05 18:20:09   晚于计划   1h50m9s  \n1908  2019-11-05 18:00:00  2019-11-05 19:53:56   晚于计划  1h53m56s  \n2480  2019-11-05 16:00:00  2019-11-05 17:07:54   晚于计划   1h7m54s  \n1988  2019-11-05 18:00:00  2019-11-05 19:09:59   晚于计划   1h9m59s  \n1830  2019-11-05 18:30:00  2019-11-05 20:46:38   晚于计划  2h16m38s  \n3753  2019-11-05 04:00:00  2019-11-05 06:49:52   晚于计划  2h49m52s  \n1810  2019-11-05 18:00:00  2019-11-05 21:14:42   晚于计划  3h14m42s  \n3179  2019-11-05 12:00:00  2019-11-05 15:17:13   晚于计划  3h17m13s  \n3649  2019-11-05 01:00:00  2019-11-05 08:14:24   晚于计划  7h14m24s  \n3146  2019-11-05 08:00:00  2019-11-05 15:27:14   晚于计划  7h27m14s  "
     },
     "execution_count": 56,
     "metadata": {},
     "output_type": "execute_result"
    }
   ],
   "source": [
    "data3.sort_values(by=['到达超时'])"
   ]
  },
  {
   "cell_type": "code",
   "execution_count": 57,
   "metadata": {},
   "outputs": [
    {
     "name": "stdout",
     "output_type": "stream",
     "text": "晚点30分钟线路有23条\n"
    }
   ],
   "source": [
    "data4=data3[data3['到达超时']>'0h30m00s']\n",
    "data4=data4.sort_values(by=['到达超时'],ascending=[False])\n",
    "data4\n",
    "d=len(data4['线路名称'])\n",
    "print(\"晚点30分钟线路有\"+str(d)+\"条\")"
   ]
  },
  {
   "cell_type": "code",
   "execution_count": 58,
   "metadata": {},
   "outputs": [
    {
     "name": "stdout",
     "output_type": "stream",
     "text": "当日共运行车线1169条。\n1，到达始发站晚点车线共109条，占比9.32%，晚点30分钟的线路有23条。\n"
    }
   ],
   "source": [
    "print(\"当日共运行车线\"+str(a)+\"条。\")\n",
    "print(\"1，到达始发站晚点车线共\"+str(b)+\"条，占比\"+\"{:.2%}\".format(c)+\"，晚点30分钟的线路有\"+str(d)+\"条。\")"
   ]
  },
  {
   "cell_type": "code",
   "execution_count": null,
   "metadata": {},
   "outputs": [],
   "source": []
  }
 ],
 "metadata": {},
 "nbformat": 4,
 "nbformat_minor": 2
}
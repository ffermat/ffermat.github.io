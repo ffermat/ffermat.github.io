{
 "cells": [
  {
   "cell_type": "markdown",
   "metadata": {},
   "outputs": [],
   "source": [
    "### python基础"
   ]
  },
  {
   "cell_type": "code",
   "execution_count": 10,
   "metadata": {},
   "outputs": [],
   "source": [
    "import pandas as pd\n",
    "import numpy as nu\n",
    "data=pd.read_csv(r\"D:\\Chrome下载\\export_sql_2675238\\sqlResult_2675238.csv\")\n",
    "data\n",
    "\n",
    "\n",
    "\n",
    "#下单趋势数据\n",
    "\n",
    "\n",
    "data4=data[\"weight\"]\n",
    "data4=data4.dropna()"
   ]
  },
  {
   "cell_type": "code",
   "execution_count": 12,
   "metadata": {},
   "outputs": [
    {
     "data": {
      "text/html": "<div>\n<style scoped>\n    .dataframe tbody tr th:only-of-type {\n        vertical-align: middle;\n    }\n\n    .dataframe tbody tr th {\n        vertical-align: top;\n    }\n\n    .dataframe thead th {\n        text-align: right;\n    }\n</style>\n<table border=\"1\" class=\"dataframe\">\n  <thead>\n    <tr style=\"text-align: right;\">\n      <th></th>\n      <th>pno</th>\n      <th>weight</th>\n    </tr>\n  </thead>\n  <tbody>\n    <tr>\n      <th>0</th>\n      <td>TH68143E8VS9E</td>\n      <td>1.00</td>\n    </tr>\n    <tr>\n      <th>1</th>\n      <td>TH40093DZ8Q8E</td>\n      <td>0.70</td>\n    </tr>\n    <tr>\n      <th>2</th>\n      <td>TH64153EG308A</td>\n      <td>1.41</td>\n    </tr>\n    <tr>\n      <th>3</th>\n      <td>TH38013DS170P</td>\n      <td>0.30</td>\n    </tr>\n    <tr>\n      <th>4</th>\n      <td>TH75103EU9V1J</td>\n      <td>10.82</td>\n    </tr>\n    <tr>\n      <th>...</th>\n      <td>...</td>\n      <td>...</td>\n    </tr>\n    <tr>\n      <th>1944319</th>\n      <td>TH03023FDSD3C</td>\n      <td>0.52</td>\n    </tr>\n    <tr>\n      <th>1944320</th>\n      <td>TH01473F25M7C</td>\n      <td>1.60</td>\n    </tr>\n    <tr>\n      <th>1944321</th>\n      <td>TH01183FAH68A</td>\n      <td>1.29</td>\n    </tr>\n    <tr>\n      <th>1944322</th>\n      <td>TH01503F9Q15B</td>\n      <td>0.85</td>\n    </tr>\n    <tr>\n      <th>1944323</th>\n      <td>TH70083F82X1B</td>\n      <td>3.00</td>\n    </tr>\n  </tbody>\n</table>\n<p>1944324 rows × 2 columns</p>\n</div>",
      "text/plain": "                   pno  weight\n0        TH68143E8VS9E    1.00\n1        TH40093DZ8Q8E    0.70\n2        TH64153EG308A    1.41\n3        TH38013DS170P    0.30\n4        TH75103EU9V1J   10.82\n...                ...     ...\n1944319  TH03023FDSD3C    0.52\n1944320  TH01473F25M7C    1.60\n1944321  TH01183FAH68A    1.29\n1944322  TH01503F9Q15B    0.85\n1944323  TH70083F82X1B    3.00\n\n[1944324 rows x 2 columns]"
     },
     "execution_count": 12,
     "metadata": {},
     "output_type": "execute_result"
    }
   ],
   "source": [
    "data"
   ]
  },
  {
   "cell_type": "code",
   "execution_count": 0,
   "metadata": {},
   "outputs": [],
   "source": [
    "data[data.weight>2]"
   ]
  },
  {
   "cell_type": "code",
   "execution_count": null,
   "metadata": {},
   "outputs": [],
   "source": []
  }
 ],
 "metadata": {
  "file_extension": ".py",
  "kernelspec": {
   "display_name": "Python 3",
   "language": "python",
   "name": "python3"
  },
  "language_info": {
   "codemirror_mode": {
    "name": "ipython",
    "version": 3
   },
   "file_extension": ".py",
   "mimetype": "text/x-python",
   "name": "python",
   "nbconvert_exporter": "python",
   "pygments_lexer": "ipython3",
   "version": "3.7.5"
  },
  "mimetype": "text/x-python",
  "name": "python",
  "npconvert_exporter": "python",
  "pygments_lexer": "ipython3",
  "toc": {
   "base_numbering": 1,
   "nav_menu": {},
   "number_sections": true,
   "sideBar": true,
   "skip_h1_title": false,
   "title_cell": "Table of Contents",
   "title_sidebar": "Contents",
   "toc_cell": false,
   "toc_position": {},
   "toc_section_display": true,
   "toc_window_display": false
  },
  "version": 3
 },
 "nbformat": 4,
 "nbformat_minor": 2
}
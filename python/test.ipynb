{
 "cells": [
  {
   "cell_type": "markdown",
   "metadata": {},
   "outputs": [],
   "source": [
    "### python基础"
   ]
  },
  {
   "cell_type": "code",
   "execution_count": 11,
   "metadata": {},
   "outputs": [],
   "source": [
    "import pandas as pd\n",
    "import numpy as nu\n",
    "import datetime\n",
    "data=pd.read_csv(r\"D:\\Chrome下载\\export_sql_2679977\\sqlResult_2679977.csv\")"
   ]
  },
  {
   "cell_type": "code",
   "execution_count": 12,
   "metadata": {},
   "outputs": [
    {
     "data": {
      "text/html": "<div>\n<style scoped>\n    .dataframe tbody tr th:only-of-type {\n        vertical-align: middle;\n    }\n\n    .dataframe tbody tr th {\n        vertical-align: top;\n    }\n\n    .dataframe thead th {\n        text-align: right;\n    }\n</style>\n<table border=\"1\" class=\"dataframe\">\n  <thead>\n    <tr style=\"text-align: right;\">\n      <th></th>\n      <th>pno</th>\n      <th>finished_at</th>\n      <th>created_at</th>\n    </tr>\n  </thead>\n  <tbody>\n    <tr>\n      <th>0</th>\n      <td>TH25013GJY19A</td>\n      <td>2019-11-12 00:22:19</td>\n      <td>2019-11-11 07:58:37</td>\n    </tr>\n    <tr>\n      <th>1</th>\n      <td>TH25013FK8Y5A</td>\n      <td>2019-11-12 00:22:41</td>\n      <td>2019-11-10 02:07:57</td>\n    </tr>\n    <tr>\n      <th>2</th>\n      <td>CF13046738P01</td>\n      <td>2019-11-12 00:47:48</td>\n      <td>2019-11-10 06:59:08</td>\n    </tr>\n    <tr>\n      <th>3</th>\n      <td>TH13073FX6H0C</td>\n      <td>2019-11-12 01:01:08</td>\n      <td>2019-11-10 08:10:37</td>\n    </tr>\n    <tr>\n      <th>4</th>\n      <td>TH31133FNJJ1A</td>\n      <td>2019-11-12 01:03:42</td>\n      <td>2019-11-10 04:15:01</td>\n    </tr>\n    <tr>\n      <th>...</th>\n      <td>...</td>\n      <td>...</td>\n      <td>...</td>\n    </tr>\n    <tr>\n      <th>230013</th>\n      <td>TH64013FT4W4L</td>\n      <td>2019-11-12 10:26:15</td>\n      <td>2019-11-10 06:43:07</td>\n    </tr>\n    <tr>\n      <th>230014</th>\n      <td>TH03063GF1P2E</td>\n      <td>2019-11-12 10:26:51</td>\n      <td>2019-11-11 09:45:27</td>\n    </tr>\n    <tr>\n      <th>230015</th>\n      <td>TH64123FKJ67R</td>\n      <td>2019-11-12 10:28:12</td>\n      <td>2019-11-10 07:17:07</td>\n    </tr>\n    <tr>\n      <th>230016</th>\n      <td>TH55043F6PZ7A</td>\n      <td>2019-11-12 10:29:08</td>\n      <td>2019-11-09 05:22:19</td>\n    </tr>\n    <tr>\n      <th>230017</th>\n      <td>TH38013F6AS9M</td>\n      <td>2019-11-12 10:29:49</td>\n      <td>2019-11-09 05:04:31</td>\n    </tr>\n  </tbody>\n</table>\n<p>230018 rows × 3 columns</p>\n</div>",
      "text/plain": "                  pno          finished_at           created_at\n0       TH25013GJY19A  2019-11-12 00:22:19  2019-11-11 07:58:37\n1       TH25013FK8Y5A  2019-11-12 00:22:41  2019-11-10 02:07:57\n2       CF13046738P01  2019-11-12 00:47:48  2019-11-10 06:59:08\n3       TH13073FX6H0C  2019-11-12 01:01:08  2019-11-10 08:10:37\n4       TH31133FNJJ1A  2019-11-12 01:03:42  2019-11-10 04:15:01\n...               ...                  ...                  ...\n230013  TH64013FT4W4L  2019-11-12 10:26:15  2019-11-10 06:43:07\n230014  TH03063GF1P2E  2019-11-12 10:26:51  2019-11-11 09:45:27\n230015  TH64123FKJ67R  2019-11-12 10:28:12  2019-11-10 07:17:07\n230016  TH55043F6PZ7A  2019-11-12 10:29:08  2019-11-09 05:22:19\n230017  TH38013F6AS9M  2019-11-12 10:29:49  2019-11-09 05:04:31\n\n[230018 rows x 3 columns]"
     },
     "execution_count": 12,
     "metadata": {},
     "output_type": "execute_result"
    }
   ],
   "source": [
    "data"
   ]
  },
  {
   "cell_type": "code",
   "execution_count": 25,
   "metadata": {},
   "outputs": [
    {
     "data": {
      "text/plain": "pandas._libs.tslibs.timestamps.Timestamp"
     },
     "execution_count": 25,
     "metadata": {},
     "output_type": "execute_result"
    }
   ],
   "source": [
    "type(data.finished_at.iloc[0])"
   ]
  },
  {
   "cell_type": "code",
   "execution_count": 26,
   "metadata": {},
   "outputs": [],
   "source": [
    "data['finished_at']=pd.to_datetime(data['finished_at'],format=\"%Y-%m-%d %H:%M:%S\")\n",
    "data['created_at']=pd.to_datetime(data['created_at'],format=\"%Y-%m-%d %H:%M:%S\")"
   ]
  },
  {
   "cell_type": "code",
   "execution_count": 28,
   "metadata": {},
   "outputs": [],
   "source": [
    "data['new']=(data['finished_at']-data['created_at'])"
   ]
  },
  {
   "cell_type": "code",
   "execution_count": 34,
   "metadata": {},
   "outputs": [],
   "source": [
    "data1=data.sort_values(by=['new'])\n",
    "data2=data1['new']"
   ]
  },
  {
   "cell_type": "code",
   "execution_count": 35,
   "metadata": {},
   "outputs": [
    {
     "data": {
      "text/plain": "166020    0 days 00:06:42\n192713    0 days 00:29:09\n160305    0 days 00:30:00\n61170     0 days 00:31:22\n89963     0 days 00:36:55\n               ...       \n23189    20 days 18:40:27\n28808    23 days 23:48:43\n82477    26 days 06:16:41\n196352   55 days 04:05:20\n12978    60 days 12:39:16\nName: new, Length: 230018, dtype: timedelta64[ns]"
     },
     "execution_count": 35,
     "metadata": {},
     "output_type": "execute_result"
    }
   ],
   "source": [
    "data2"
   ]
  },
  {
   "cell_type": "code",
   "execution_count": 39,
   "metadata": {},
   "outputs": [
    {
     "data": {
      "text/plain": "count                    230018\nmean     1 days 14:54:27.471402\nstd      0 days 20:31:04.592588\nmin             0 days 00:06:42\n10%      0 days 18:56:24.700000\n20%             0 days 20:54:09\n50%             1 days 17:46:24\n80%      2 days 00:04:48.600000\nmax            60 days 12:39:16\nName: new, dtype: object"
     },
     "execution_count": 39,
     "metadata": {},
     "output_type": "execute_result"
    }
   ],
   "source": [
    "data2.describe([0.1,0.2,0.5,0.8])"
   ]
  },
  {
   "cell_type": "code",
   "execution_count": null,
   "metadata": {},
   "outputs": [],
   "source": []
  }
 ],
 "metadata": {
  "file_extension": ".py",
  "kernelspec": {
   "display_name": "Python 3",
   "language": "python",
   "name": "python3"
  },
  "language_info": {
   "codemirror_mode": {
    "name": "ipython",
    "version": 3
   },
   "file_extension": ".py",
   "mimetype": "text/x-python",
   "name": "python",
   "nbconvert_exporter": "python",
   "pygments_lexer": "ipython3",
   "version": "3.7.5"
  },
  "mimetype": "text/x-python",
  "name": "python",
  "npconvert_exporter": "python",
  "pygments_lexer": "ipython3",
  "toc": {
   "base_numbering": 1,
   "nav_menu": {},
   "number_sections": true,
   "sideBar": true,
   "skip_h1_title": false,
   "title_cell": "Table of Contents",
   "title_sidebar": "Contents",
   "toc_cell": false,
   "toc_position": {},
   "toc_section_display": true,
   "toc_window_display": false
  },
  "version": 3
 },
 "nbformat": 4,
 "nbformat_minor": 2
}
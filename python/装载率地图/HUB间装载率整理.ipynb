{
 "nbformat": 4,
 "nbformat_minor": 2,
 "metadata": {
  "language_info": {
   "name": "python",
   "codemirror_mode": {
    "name": "ipython",
    "version": 3
   }
  },
  "orig_nbformat": 2,
  "file_extension": ".py",
  "mimetype": "text/x-python",
  "name": "python",
  "npconvert_exporter": "python",
  "pygments_lexer": "ipython3",
  "version": 3
 },
 "cells": [
  {
   "cell_type": "code",
   "execution_count": 1,
   "metadata": {},
   "outputs": [
    {
     "data": {
      "text/html": "<div>\n<style scoped>\n    .dataframe tbody tr th:only-of-type {\n        vertical-align: middle;\n    }\n\n    .dataframe tbody tr th {\n        vertical-align: top;\n    }\n\n    .dataframe thead th {\n        text-align: right;\n    }\n</style>\n<table border=\"1\" class=\"dataframe\">\n  <thead>\n    <tr style=\"text-align: right;\">\n      <th></th>\n      <th>计划发车时间</th>\n      <th>线路名称</th>\n      <th>大区</th>\n      <th>片区</th>\n      <th>始发网点</th>\n      <th>目的地网点</th>\n      <th>车型</th>\n      <th>车牌号</th>\n      <th>总计包裹数</th>\n      <th>理论装载重量</th>\n      <th>装载率</th>\n      <th>实际重量</th>\n      <th>包裹平均重量</th>\n      <th>出车成本</th>\n      <th>每件包裹成本</th>\n      <th>每公斤成本</th>\n    </tr>\n  </thead>\n  <tbody>\n    <tr>\n      <th>0</th>\n      <td>2019-11-07</td>\n      <td>FD-4W-LOP-LAS-18:00-RS2</td>\n      <td>Area5</td>\n      <td>C2</td>\n      <td>LOP_SP-ลพบุรี</td>\n      <td>05 LAS_HUB-ลาซาล</td>\n      <td>4W</td>\n      <td>2ฒธ-9146</td>\n      <td>464</td>\n      <td>1200 Kg</td>\n      <td>68.14 %</td>\n      <td>817.72 Kg</td>\n      <td>1.76 Kg</td>\n      <td>1135.0</td>\n      <td>2.45</td>\n      <td>1.39</td>\n    </tr>\n    <tr>\n      <th>1</th>\n      <td>2019-11-07</td>\n      <td>FD-6W-LAS-MTP-04:00-RS1</td>\n      <td>NaN</td>\n      <td>NaN</td>\n      <td>05 LAS_HUB-ลาซาล</td>\n      <td>MTP_SP-ระยอง</td>\n      <td>6W7.2</td>\n      <td>72-1995.</td>\n      <td>1715</td>\n      <td>6000 Kg</td>\n      <td>41.5 %</td>\n      <td>2490.034 Kg</td>\n      <td>1.45 Kg</td>\n      <td>5300.0</td>\n      <td>3.09</td>\n      <td>2.13</td>\n    </tr>\n    <tr>\n      <th>2</th>\n      <td>2019-11-07</td>\n      <td>FD-4W-LAS-KAN-04:00-RS1</td>\n      <td>NaN</td>\n      <td>NaN</td>\n      <td>05 LAS_HUB-ลาซาล</td>\n      <td>KAN_SP-กาญจนบุรี</td>\n      <td>4W</td>\n      <td>2ฒข6065</td>\n      <td>495</td>\n      <td>1200 Kg</td>\n      <td>82.58 %</td>\n      <td>990.939 Kg</td>\n      <td>2 Kg</td>\n      <td>1115.0</td>\n      <td>2.25</td>\n      <td>1.13</td>\n    </tr>\n    <tr>\n      <th>3</th>\n      <td>2019-11-07</td>\n      <td>FD-6W 5.5-LAS-ANG-SIN-04:00-RS1</td>\n      <td>NaN</td>\n      <td>NaN</td>\n      <td>05 LAS_HUB-ลาซาล</td>\n      <td>SIN_SP-สิงห์บุรี</td>\n      <td>6W5.5</td>\n      <td>72-9252</td>\n      <td>831</td>\n      <td>5000 Kg</td>\n      <td>24.76 %</td>\n      <td>1237.798 Kg</td>\n      <td>1.49 Kg</td>\n      <td>2180.0</td>\n      <td>2.62</td>\n      <td>1.76</td>\n    </tr>\n    <tr>\n      <th>4</th>\n      <td>2019-11-07</td>\n      <td>FD-4W-LAS-PRK-03:00-RS1</td>\n      <td>NaN</td>\n      <td>NaN</td>\n      <td>05 LAS_HUB-ลาซาล</td>\n      <td>PRK_SP-ประจวบคีรีขันธ์</td>\n      <td>4W</td>\n      <td>บว2506</td>\n      <td>714</td>\n      <td>1200 Kg</td>\n      <td>70.68 %</td>\n      <td>848.113 Kg</td>\n      <td>1.19 Kg</td>\n      <td>2065.0</td>\n      <td>2.89</td>\n      <td>2.43</td>\n    </tr>\n    <tr>\n      <th>...</th>\n      <td>...</td>\n      <td>...</td>\n      <td>...</td>\n      <td>...</td>\n      <td>...</td>\n      <td>...</td>\n      <td>...</td>\n      <td>...</td>\n      <td>...</td>\n      <td>...</td>\n      <td>...</td>\n      <td>...</td>\n      <td>...</td>\n      <td>...</td>\n      <td>...</td>\n      <td>...</td>\n    </tr>\n    <tr>\n      <th>7895</th>\n      <td>2019-11-13</td>\n      <td>DD1-BPI-NE2-20191113 21:00</td>\n      <td>Area2</td>\n      <td>NE2</td>\n      <td>BPI_SP-บ้านไผ่</td>\n      <td>09 KKC_HUB - ขอนแก่น</td>\n      <td>4W</td>\n      <td>ผผ5499</td>\n      <td>449</td>\n      <td>1200 Kg</td>\n      <td>39.21 %</td>\n      <td>470.49 Kg</td>\n      <td>1.05 Kg</td>\n      <td>1.0</td>\n      <td>0.00</td>\n      <td>0.00</td>\n    </tr>\n    <tr>\n      <th>7896</th>\n      <td>2019-11-13</td>\n      <td>DD1-LAS-BKK-20191113 22:00</td>\n      <td>NaN</td>\n      <td>NaN</td>\n      <td>05 LAS_HUB-ลาซาล</td>\n      <td>01 BKK_HUB-จตุโชติ</td>\n      <td>4W</td>\n      <td>1ฒม2772</td>\n      <td>876</td>\n      <td>1200 Kg</td>\n      <td>140.06 %</td>\n      <td>1680.739 Kg</td>\n      <td>1.92 Kg</td>\n      <td>1.0</td>\n      <td>0.00</td>\n      <td>0.00</td>\n    </tr>\n    <tr>\n      <th>7897</th>\n      <td>2019-11-13</td>\n      <td>DD1-PKD-LAS-20191113 21:00</td>\n      <td>Area1</td>\n      <td>BKK1</td>\n      <td>PKD_SP-ปากเกร็ด</td>\n      <td>05 LAS_HUB-ลาซาล</td>\n      <td>4W</td>\n      <td>2ฒฆ5905</td>\n      <td>164</td>\n      <td>1200 Kg</td>\n      <td>30.14 %</td>\n      <td>361.71 Kg</td>\n      <td>2.21 Kg</td>\n      <td>1.0</td>\n      <td>0.01</td>\n      <td>0.00</td>\n    </tr>\n    <tr>\n      <th>7898</th>\n      <td>2019-11-13</td>\n      <td>DD1-KJN-BKK-LAS-20191113 21:00</td>\n      <td>Area5</td>\n      <td>BKK8</td>\n      <td>KJN_SP-คลองจั่น</td>\n      <td>05 LAS_HUB-ลาซาล</td>\n      <td>4W</td>\n      <td>2ฒล4290</td>\n      <td>717</td>\n      <td>1200 Kg</td>\n      <td>24.92 %</td>\n      <td>299.01 Kg</td>\n      <td>0.42 Kg</td>\n      <td>1.0</td>\n      <td>0.00</td>\n      <td>0.00</td>\n    </tr>\n    <tr>\n      <th>7899</th>\n      <td>2019-11-13</td>\n      <td>DD1-SO1-LAS-20191113 22:30</td>\n      <td>NaN</td>\n      <td>NaN</td>\n      <td>03 SO1_HUB-สุราษฏร์ธานี</td>\n      <td>05 LAS_HUB-ลาซาล</td>\n      <td>6W7.2</td>\n      <td>72-9709</td>\n      <td>694</td>\n      <td>6000 Kg</td>\n      <td>17.04 %</td>\n      <td>1022.638 Kg</td>\n      <td>1.47 Kg</td>\n      <td>1.0</td>\n      <td>0.00</td>\n      <td>0.00</td>\n    </tr>\n  </tbody>\n</table>\n<p>7900 rows × 16 columns</p>\n</div>",
      "text/plain": "          计划发车时间                             线路名称     大区    片区  \\\n0     2019-11-07          FD-4W-LOP-LAS-18:00-RS2  Area5    C2   \n1     2019-11-07          FD-6W-LAS-MTP-04:00-RS1    NaN   NaN   \n2     2019-11-07          FD-4W-LAS-KAN-04:00-RS1    NaN   NaN   \n3     2019-11-07  FD-6W 5.5-LAS-ANG-SIN-04:00-RS1    NaN   NaN   \n4     2019-11-07          FD-4W-LAS-PRK-03:00-RS1    NaN   NaN   \n...          ...                              ...    ...   ...   \n7895  2019-11-13       DD1-BPI-NE2-20191113 21:00  Area2   NE2   \n7896  2019-11-13       DD1-LAS-BKK-20191113 22:00    NaN   NaN   \n7897  2019-11-13       DD1-PKD-LAS-20191113 21:00  Area1  BKK1   \n7898  2019-11-13   DD1-KJN-BKK-LAS-20191113 21:00  Area5  BKK8   \n7899  2019-11-13       DD1-SO1-LAS-20191113 22:30    NaN   NaN   \n\n                         始发网点                   目的地网点     车型       车牌号  总计包裹数  \\\n0               LOP_SP-ลพบุรี        05 LAS_HUB-ลาซาล     4W  2ฒธ-9146    464   \n1            05 LAS_HUB-ลาซาล            MTP_SP-ระยอง  6W7.2  72-1995.   1715   \n2            05 LAS_HUB-ลาซาล        KAN_SP-กาญจนบุรี     4W   2ฒข6065    495   \n3            05 LAS_HUB-ลาซาล        SIN_SP-สิงห์บุรี  6W5.5   72-9252    831   \n4            05 LAS_HUB-ลาซาล  PRK_SP-ประจวบคีรีขันธ์     4W    บว2506    714   \n...                       ...                     ...    ...       ...    ...   \n7895           BPI_SP-บ้านไผ่    09 KKC_HUB - ขอนแก่น     4W    ผผ5499    449   \n7896         05 LAS_HUB-ลาซาล      01 BKK_HUB-จตุโชติ     4W   1ฒม2772    876   \n7897          PKD_SP-ปากเกร็ด        05 LAS_HUB-ลาซาล     4W   2ฒฆ5905    164   \n7898          KJN_SP-คลองจั่น        05 LAS_HUB-ลาซาล     4W   2ฒล4290    717   \n7899  03 SO1_HUB-สุราษฏร์ธานี        05 LAS_HUB-ลาซาล  6W7.2   72-9709    694   \n\n       理论装载重量       装载率         实际重量   包裹平均重量    出车成本  每件包裹成本  每公斤成本  \n0     1200 Kg   68.14 %    817.72 Kg  1.76 Kg  1135.0    2.45   1.39  \n1     6000 Kg    41.5 %  2490.034 Kg  1.45 Kg  5300.0    3.09   2.13  \n2     1200 Kg   82.58 %   990.939 Kg     2 Kg  1115.0    2.25   1.13  \n3     5000 Kg   24.76 %  1237.798 Kg  1.49 Kg  2180.0    2.62   1.76  \n4     1200 Kg   70.68 %   848.113 Kg  1.19 Kg  2065.0    2.89   2.43  \n...       ...       ...          ...      ...     ...     ...    ...  \n7895  1200 Kg   39.21 %    470.49 Kg  1.05 Kg     1.0    0.00   0.00  \n7896  1200 Kg  140.06 %  1680.739 Kg  1.92 Kg     1.0    0.00   0.00  \n7897  1200 Kg   30.14 %    361.71 Kg  2.21 Kg     1.0    0.01   0.00  \n7898  1200 Kg   24.92 %    299.01 Kg  0.42 Kg     1.0    0.00   0.00  \n7899  6000 Kg   17.04 %  1022.638 Kg  1.47 Kg     1.0    0.00   0.00  \n\n[7900 rows x 16 columns]"
     },
     "execution_count": 1,
     "metadata": {},
     "output_type": "execute_result"
    }
   ],
   "source": [
    "import pandas as pd\n",
    "import numpy as np\n",
    "data=pd.read_excel(r\"D:\\Chrome下载\\车辆装载率和成本报表 - BI - FlashExpress.xlsx\")\n",
    "data"
   ]
  },
  {
   "cell_type": "code",
   "execution_count": null,
   "metadata": {},
   "outputs": [],
   "source": []
  }
 ]
}